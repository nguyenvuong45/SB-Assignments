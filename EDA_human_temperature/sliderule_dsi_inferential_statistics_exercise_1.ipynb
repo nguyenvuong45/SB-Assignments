{
 "cells": [
  {
   "cell_type": "markdown",
   "metadata": {},
   "source": [
    "# What is the True Normal Human Body Temperature? \n",
    "\n",
    "#### Background\n",
    "\n",
    "The mean normal body temperature was held to be 37$^{\\circ}$C or 98.6$^{\\circ}$F for more than 120 years since it was first conceptualized and reported by Carl Wunderlich in a famous 1868 book. But, is this value statistically correct?"
   ]
  },
  {
   "cell_type": "markdown",
   "metadata": {},
   "source": [
    "<h3>Exercises</h3>\n",
    "\n",
    "<p>In this exercise, you will analyze a dataset of human body temperatures and employ the concepts of hypothesis testing, confidence intervals, and statistical significance.</p>\n",
    "\n",
    "<p>Answer the following questions <b>in this notebook below and submit to your Github account</b>.</p> \n",
    "\n",
    "<ol>\n",
    "<li>  Is the distribution of body temperatures normal? \n",
    "    <ul>\n",
    "    <li> Although this is not a requirement for the Central Limit Theorem to hold (read the introduction on Wikipedia's page about the CLT carefully: https://en.wikipedia.org/wiki/Central_limit_theorem), it gives us some peace of mind that the population may also be normally distributed if we assume that this sample is representative of the population.\n",
    "    <li> Think about the way you're going to check for the normality of the distribution. Graphical methods are usually used first, but there are also other ways: https://en.wikipedia.org/wiki/Normality_test\n",
    "    </ul>\n",
    "<li>  Is the sample size large? Are the observations independent?\n",
    "    <ul>\n",
    "    <li> Remember that this is a condition for the Central Limit Theorem, and hence the statistical tests we are using, to apply.\n",
    "    </ul>\n",
    "<li>  Is the true population mean really 98.6 degrees F?\n",
    "    <ul>\n",
    "    <li> First, try a bootstrap hypothesis test.\n",
    "    <li> Now, let's try frequentist statistical testing. Would you use a one-sample or two-sample test? Why?\n",
    "    <li> In this situation, is it appropriate to use the $t$ or $z$ statistic? \n",
    "    <li> Now try using the other test. How is the result be different? Why?\n",
    "    </ul>\n",
    "<li>  Draw a small sample of size 10 from the data and repeat both frequentist tests. \n",
    "    <ul>\n",
    "    <li> Which one is the correct one to use? \n",
    "    <li> What do you notice? What does this tell you about the difference in application of the $t$ and $z$ statistic?\n",
    "    </ul>\n",
    "<li>  At what temperature should we consider someone's temperature to be \"abnormal\"?\n",
    "    <ul>\n",
    "    <li> As in the previous example, try calculating everything using the boostrap approach, as well as the frequentist approach.\n",
    "    <li> Start by computing the margin of error and confidence interval. When calculating the confidence interval, keep in mind that you should use the appropriate formula for one draw, and not N draws.\n",
    "    </ul>\n",
    "<li>  Is there a significant difference between males and females in normal temperature?\n",
    "    <ul>\n",
    "    <li> What testing approach did you use and why?\n",
    "    <li> Write a story with your conclusion in the context of the original problem.\n",
    "    </ul>\n",
    "</ol>\n",
    "\n",
    "You can include written notes in notebook cells using Markdown: \n",
    "   - In the control panel at the top, choose Cell > Cell Type > Markdown\n",
    "   - Markdown syntax: http://nestacms.com/docs/creating-content/markdown-cheat-sheet\n",
    "\n",
    "#### Resources\n",
    "\n",
    "+ Information and data sources: http://www.amstat.org/publications/jse/datasets/normtemp.txt, http://www.amstat.org/publications/jse/jse_data_archive.htm\n",
    "+ Markdown syntax: http://nestacms.com/docs/creating-content/markdown-cheat-sheet\n",
    "\n",
    "****"
   ]
  },
  {
   "cell_type": "code",
   "execution_count": 1,
   "metadata": {},
   "outputs": [],
   "source": [
    "import pandas as pd\n",
    "import matplotlib.pyplot as plt\n",
    "import seaborn as sns\n",
    "import numpy as np\n",
    "import scipy.stats as ss\n",
    "\n",
    "plt.style.use('ggplot')\n",
    "%matplotlib inline\n",
    "\n",
    "df = pd.read_csv('data/human_body_temperature.csv')\n",
    "temp = df.temperature"
   ]
  },
  {
   "cell_type": "code",
   "execution_count": 2,
   "metadata": {},
   "outputs": [
    {
     "name": "stdout",
     "output_type": "stream",
     "text": [
      "<class 'pandas.core.frame.DataFrame'>\n",
      "RangeIndex: 130 entries, 0 to 129\n",
      "Data columns (total 3 columns):\n",
      "temperature    130 non-null float64\n",
      "gender         130 non-null object\n",
      "heart_rate     130 non-null float64\n",
      "dtypes: float64(2), object(1)\n",
      "memory usage: 3.1+ KB\n"
     ]
    }
   ],
   "source": [
    "df.info()"
   ]
  },
  {
   "cell_type": "code",
   "execution_count": 3,
   "metadata": {},
   "outputs": [
    {
     "data": {
      "text/html": [
       "<div>\n",
       "<style scoped>\n",
       "    .dataframe tbody tr th:only-of-type {\n",
       "        vertical-align: middle;\n",
       "    }\n",
       "\n",
       "    .dataframe tbody tr th {\n",
       "        vertical-align: top;\n",
       "    }\n",
       "\n",
       "    .dataframe thead th {\n",
       "        text-align: right;\n",
       "    }\n",
       "</style>\n",
       "<table border=\"1\" class=\"dataframe\">\n",
       "  <thead>\n",
       "    <tr style=\"text-align: right;\">\n",
       "      <th></th>\n",
       "      <th>temperature</th>\n",
       "      <th>gender</th>\n",
       "      <th>heart_rate</th>\n",
       "    </tr>\n",
       "  </thead>\n",
       "  <tbody>\n",
       "    <tr>\n",
       "      <th>0</th>\n",
       "      <td>99.3</td>\n",
       "      <td>F</td>\n",
       "      <td>68.0</td>\n",
       "    </tr>\n",
       "    <tr>\n",
       "      <th>1</th>\n",
       "      <td>98.4</td>\n",
       "      <td>F</td>\n",
       "      <td>81.0</td>\n",
       "    </tr>\n",
       "    <tr>\n",
       "      <th>2</th>\n",
       "      <td>97.8</td>\n",
       "      <td>M</td>\n",
       "      <td>73.0</td>\n",
       "    </tr>\n",
       "    <tr>\n",
       "      <th>3</th>\n",
       "      <td>99.2</td>\n",
       "      <td>F</td>\n",
       "      <td>66.0</td>\n",
       "    </tr>\n",
       "    <tr>\n",
       "      <th>4</th>\n",
       "      <td>98.0</td>\n",
       "      <td>F</td>\n",
       "      <td>73.0</td>\n",
       "    </tr>\n",
       "    <tr>\n",
       "      <th>5</th>\n",
       "      <td>99.2</td>\n",
       "      <td>M</td>\n",
       "      <td>83.0</td>\n",
       "    </tr>\n",
       "    <tr>\n",
       "      <th>6</th>\n",
       "      <td>98.0</td>\n",
       "      <td>M</td>\n",
       "      <td>71.0</td>\n",
       "    </tr>\n",
       "    <tr>\n",
       "      <th>7</th>\n",
       "      <td>98.8</td>\n",
       "      <td>M</td>\n",
       "      <td>78.0</td>\n",
       "    </tr>\n",
       "    <tr>\n",
       "      <th>8</th>\n",
       "      <td>98.4</td>\n",
       "      <td>F</td>\n",
       "      <td>84.0</td>\n",
       "    </tr>\n",
       "    <tr>\n",
       "      <th>9</th>\n",
       "      <td>98.6</td>\n",
       "      <td>F</td>\n",
       "      <td>86.0</td>\n",
       "    </tr>\n",
       "  </tbody>\n",
       "</table>\n",
       "</div>"
      ],
      "text/plain": [
       "   temperature gender  heart_rate\n",
       "0         99.3      F        68.0\n",
       "1         98.4      F        81.0\n",
       "2         97.8      M        73.0\n",
       "3         99.2      F        66.0\n",
       "4         98.0      F        73.0\n",
       "5         99.2      M        83.0\n",
       "6         98.0      M        71.0\n",
       "7         98.8      M        78.0\n",
       "8         98.4      F        84.0\n",
       "9         98.6      F        86.0"
      ]
     },
     "execution_count": 3,
     "metadata": {},
     "output_type": "execute_result"
    }
   ],
   "source": [
    "df.head(10)"
   ]
  },
  {
   "cell_type": "code",
   "execution_count": 4,
   "metadata": {},
   "outputs": [
    {
     "data": {
      "text/html": [
       "<div>\n",
       "<style scoped>\n",
       "    .dataframe tbody tr th:only-of-type {\n",
       "        vertical-align: middle;\n",
       "    }\n",
       "\n",
       "    .dataframe tbody tr th {\n",
       "        vertical-align: top;\n",
       "    }\n",
       "\n",
       "    .dataframe thead th {\n",
       "        text-align: right;\n",
       "    }\n",
       "</style>\n",
       "<table border=\"1\" class=\"dataframe\">\n",
       "  <thead>\n",
       "    <tr style=\"text-align: right;\">\n",
       "      <th></th>\n",
       "      <th>temperature</th>\n",
       "      <th>heart_rate</th>\n",
       "    </tr>\n",
       "  </thead>\n",
       "  <tbody>\n",
       "    <tr>\n",
       "      <th>count</th>\n",
       "      <td>130.000000</td>\n",
       "      <td>130.000000</td>\n",
       "    </tr>\n",
       "    <tr>\n",
       "      <th>mean</th>\n",
       "      <td>98.249231</td>\n",
       "      <td>73.761538</td>\n",
       "    </tr>\n",
       "    <tr>\n",
       "      <th>std</th>\n",
       "      <td>0.733183</td>\n",
       "      <td>7.062077</td>\n",
       "    </tr>\n",
       "    <tr>\n",
       "      <th>min</th>\n",
       "      <td>96.300000</td>\n",
       "      <td>57.000000</td>\n",
       "    </tr>\n",
       "    <tr>\n",
       "      <th>25%</th>\n",
       "      <td>97.800000</td>\n",
       "      <td>69.000000</td>\n",
       "    </tr>\n",
       "    <tr>\n",
       "      <th>50%</th>\n",
       "      <td>98.300000</td>\n",
       "      <td>74.000000</td>\n",
       "    </tr>\n",
       "    <tr>\n",
       "      <th>75%</th>\n",
       "      <td>98.700000</td>\n",
       "      <td>79.000000</td>\n",
       "    </tr>\n",
       "    <tr>\n",
       "      <th>max</th>\n",
       "      <td>100.800000</td>\n",
       "      <td>89.000000</td>\n",
       "    </tr>\n",
       "  </tbody>\n",
       "</table>\n",
       "</div>"
      ],
      "text/plain": [
       "       temperature  heart_rate\n",
       "count   130.000000  130.000000\n",
       "mean     98.249231   73.761538\n",
       "std       0.733183    7.062077\n",
       "min      96.300000   57.000000\n",
       "25%      97.800000   69.000000\n",
       "50%      98.300000   74.000000\n",
       "75%      98.700000   79.000000\n",
       "max     100.800000   89.000000"
      ]
     },
     "execution_count": 4,
     "metadata": {},
     "output_type": "execute_result"
    }
   ],
   "source": [
    "df.describe()"
   ]
  },
  {
   "cell_type": "code",
   "execution_count": 5,
   "metadata": {},
   "outputs": [
    {
     "data": {
      "text/plain": [
       "<matplotlib.axes._subplots.AxesSubplot at 0x190e898e470>"
      ]
     },
     "execution_count": 5,
     "metadata": {},
     "output_type": "execute_result"
    },
    {
     "data": {
      "image/png": "[encoded data removed]",
      "text/plain": [
       "<Figure size 576x360 with 1 Axes>"
      ]
     },
     "metadata": {},
     "output_type": "display_data"
    }
   ],
   "source": [
    "df.boxplot('temperature', figsize=(8,5)) #Presence of outliers, abnormal temps"
   ]
  },
  {
   "cell_type": "markdown",
   "metadata": {},
   "source": [
    "<li>  Is the distribution of body temperatures normal? \n",
    "    <ul>\n",
    "    <li> Although this is not a requirement for the Central Limit Theorem to hold (read the introduction on Wikipedia's page about the CLT carefully: https://en.wikipedia.org/wiki/Central_limit_theorem), it gives us some peace of mind that the population may also be normally distributed if we assume that this sample is representative of the population.\n",
    "    <li> Think about the way you're going to check for the normality of the distribution. Graphical methods are usually used first, but there are also other ways: https://en.wikipedia.org/wiki/Normality_test\n",
    "    </ul>"
   ]
  },
  {
   "cell_type": "code",
   "execution_count": 2,
   "metadata": {},
   "outputs": [
    {
     "data": {
      "text/plain": [
       "<matplotlib.axes._subplots.AxesSubplot at 0x2aa42bafcf8>"
      ]
     },
     "execution_count": 2,
     "metadata": {},
     "output_type": "execute_result"
    },
    {
     "data": {
      "image/png": "[encoded data removed]",
      "text/plain": [
       "<Figure size 432x288 with 1 Axes>"
      ]
     },
     "metadata": {},
     "output_type": "display_data"
    }
   ],
   "source": [
    "#Dist plot: histogram with normal curve overlay. Requires further examination\n",
    "sns.distplot(temp, norm_hist=True)"
   ]
  },
  {
   "cell_type": "code",
   "execution_count": 8,
   "metadata": {},
   "outputs": [],
   "source": [
    "\n",
    "def cdf(data):\n",
    "    '''\n",
    "    Cumulative distribution function: returns x and y coordinates \n",
    "    for plotting cdf for a given set of data\n",
    "    '''\n",
    "    \n",
    "    n = len(data)\n",
    "    x = np.sort(data)\n",
    "    y = np.arange(1, 1 + n) / n\n",
    "    \n",
    "    return x,y"
   ]
  },
  {
   "cell_type": "code",
   "execution_count": 120,
   "metadata": {},
   "outputs": [
    {
     "name": "stderr",
     "output_type": "stream",
     "text": [
      "C:\\Users\\vuong\\Anaconda3\\lib\\site-packages\\matplotlib\\cbook\\deprecation.py:107: MatplotlibDeprecationWarning: Adding an axes using the same arguments as a previous axes currently reuses the earlier instance.  In a future version, a new instance will always be created and returned.  Meanwhile, this warning can be suppressed, and the future behavior ensured, by passing a unique label to each axes instance.\n",
      "  warnings.warn(message, mplDeprecation, stacklevel=1)\n"
     ]
    },
    {
     "data": {
      "image/png": "[encoded data removed]",
      "text/plain": [
       "<Figure size 1080x432 with 2 Axes>"
      ]
     },
     "metadata": {},
     "output_type": "display_data"
    }
   ],
   "source": [
    "mu = np.mean(temp) #sample mean\n",
    "sig = np.std(temp) #sample standard dev.\n",
    "#drawing from normal dist. using sample mean and std \n",
    "theor_normal = np.random.normal(mu, sig, 10000)\n",
    "#get coors. for theoretical dist. and sample data\n",
    "th_x, th_y = cdf(theor_normal)\n",
    "x, y = cdf(temp)\n",
    "\n",
    "#Plot empirical cdf compared to theoretical to observe fit\n",
    "plt.figure(figsize=(15,6))\n",
    "plt.subplot(1,2,1)\n",
    "plt.plot(th_x, th_y)\n",
    "plt.plot(x, y, marker='.', linestyle='none')\n",
    "plt.xlabel('Temperatures')\n",
    "plt.ylabel('Cumulative Probability')\n",
    "plt.title('Temperature ECDF')\n",
    "plt.legend(['Theoretical CDF', \"ECDF\"])\n",
    "\n",
    "\n",
    "\n",
    "plt.subplot(1,2,1)\n",
    "\n",
    "#Plot QQplot to observe normality\n",
    "plt.subplots_adjust(wspace=.5)\n",
    "plt.subplot(1,2,2)\n",
    "_ = ss.probplot(temp, plot = plt)"
   ]
  },
  {
   "cell_type": "code",
   "execution_count": 10,
   "metadata": {},
   "outputs": [
    {
     "name": "stdout",
     "output_type": "stream",
     "text": [
      "Test statistics: 0.9865769743919373\n",
      "P-value: 0.2331680953502655\n"
     ]
    }
   ],
   "source": [
    "np.random.seed(99)\n",
    "\n",
    "tt, p_val = ss.shapiro(temp)\n",
    "print(f'Test statistics: {tt}\\nP-value: {p_val}')"
   ]
  },
  {
   "cell_type": "markdown",
   "metadata": {},
   "source": [
    "<font color=blue>\n",
    "As seen from various methods of checking for the normality condition above, we can safely proceed with this assumption. Graphically, the data does not stray far from the theoretical normal. The Shapiro-Wilk test for normality also confirms this normality assumption with p-val ~ 0.233, failing to reject null that the sample comes from a normal distribution.\n",
    "</font>"
   ]
  },
  {
   "cell_type": "markdown",
   "metadata": {},
   "source": [
    "<li>  Is the sample size large? Are the observations independent?\n",
    "    <ul>\n",
    "    <li> Remember that this is a condition for the Central Limit Theorem, and hence the statistical tests we are using, to apply.\n",
    "    </ul>"
   ]
  },
  {
   "cell_type": "markdown",
   "metadata": {},
   "source": [
    "<font color=blue>\n",
    "We have a sample size of 130 (> 30) which is sufficiently large to apply the Central Limit Theorem.\n",
    "</font>"
   ]
  },
  {
   "cell_type": "markdown",
   "metadata": {},
   "source": [
    "<li>  Is the true population mean really 98.6 degrees F?\n",
    "    <ul>\n",
    "    <li> First, try a bootstrap hypothesis test.\n",
    "    <li> Now, let's try frequentist statistical testing. Would you use a one-sample or two-sample test? Why?\n",
    "    <li> In this situation, is it appropriate to use the $t$ or $z$ statistic? \n",
    "    <li> Now try using the other test. How is the result be different? Why?\n",
    "    </ul>"
   ]
  },
  {
   "cell_type": "code",
   "execution_count": 11,
   "metadata": {},
   "outputs": [],
   "source": [
    "def draw_bs_reps(data, func, size=1,):\n",
    "    'Calculate and store bootstrap replicates for specified repetition'\n",
    "    replicates = np.empty(size)    \n",
    "    \n",
    "    for i in range(size):\n",
    "        bs_sample = np.random.choice(data, size = len(data))\n",
    "        replicates[i] = func(bs_sample)\n",
    "    \n",
    "    return replicates\n",
    "\n",
    "\n",
    "def diff(data, val = 98.6):\n",
    "        'Difference of sample mean from hypothesized population mean'\n",
    "    return np.mean(data) - val"
   ]
  },
  {
   "cell_type": "code",
   "execution_count": 12,
   "metadata": {},
   "outputs": [
    {
     "data": {
      "text/plain": [
       "0.0"
      ]
     },
     "execution_count": 12,
     "metadata": {},
     "output_type": "execute_result"
    }
   ],
   "source": [
    "diff_obs = diff(temp)  #Observed difference\n",
    "#Shift the sample mean to conform to hypothesized distribution under the null\n",
    "temp_shifted = temp - np.mean(temp) + 98.6\n",
    "#draw 100000 bootstrap replicates\n",
    "bs_reps = draw_bs_reps(temp_shifted, diff, 100000)\n",
    "#Calculate p-val as proportion of replicates as or more extreme than data under the null\n",
    "bs_pval = np.sum(bs_reps <= diff_obs) / len(bs_reps)\n",
    "#p-val very small < 1/100000\n",
    "bs_pval"
   ]
  },
  {
   "cell_type": "markdown",
   "metadata": {},
   "source": [
    "<font color=blue>\n",
    "    We use a one sample test since we have one sample comparing to a hypothesized population mean of 98.6 degrees. Furthermore, we use the t-statistic in this case considering our sample size. The z-statistic will be sufficient here since we have a large sample size. This large sample size will help offset the tendency for the standard normal distribution to underestimate the variance. <br/>\n",
    "    We obtain a z-statistic of -5.48 and corresponding p-value (2-tailed) of approximately 0.0000000435. Considering any reasonable significance threshold, we reject the null hypothesis that the true population mean is 98.6 degrees F in favor of the alternative. When we use the t-statistic, the result holds with a small p-value (0.000000218. In other words, it is slightly more likely of an event that we would have observed our data or more extreme should the population mean actually be 98.6. This is consistent with the fact that the t-distribution has fatter tails, thus more area under the curve at the extremes. \n",
    "</font>"
   ]
  },
  {
   "cell_type": "code",
   "execution_count": 13,
   "metadata": {},
   "outputs": [
    {
     "name": "stdout",
     "output_type": "stream",
     "text": [
      "Test stat: -5.475925202078116, P-val: 4.3523151658821886e-08\n"
     ]
    }
   ],
   "source": [
    "#sample mean and std.\n",
    "s_mean = np.mean(temp)\n",
    "s_std = np.std(temp)\n",
    "#calculate test statistics\n",
    "test_stat = (s_mean - 98.6) / (s_std / np.sqrt(130))\n",
    "#using z-test for 2-tailed test: normal cdf from scipy.stats package\n",
    "z_pval = ss.norm.cdf(test_stat) * 2\n",
    "print(f'Test stat: {test_stat}, P-val: {z_pval}')"
   ]
  },
  {
   "cell_type": "code",
   "execution_count": 14,
   "metadata": {},
   "outputs": [
    {
     "data": {
      "text/plain": [
       "2.1887464624095175e-07"
      ]
     },
     "execution_count": 14,
     "metadata": {},
     "output_type": "execute_result"
    }
   ],
   "source": [
    "#using t test\n",
    "t_pval = ss.t.cdf(test_stat, df=129)*2\n",
    "t_pval #Very small p-val"
   ]
  },
  {
   "cell_type": "markdown",
   "metadata": {},
   "source": [
    "<li>  Draw a small sample of size 10 from the data and repeat both frequentist tests. \n",
    "    <ul>\n",
    "    <li> Which one is the correct one to use? \n",
    "    <li> What do you notice? What does this tell you about the difference in application of the $t$ and $z$ statistic?\n",
    "    </ul>"
   ]
  },
  {
   "cell_type": "code",
   "execution_count": 15,
   "metadata": {},
   "outputs": [
    {
     "data": {
      "text/plain": [
       "array([98.8, 98.5, 98.3, 97.8, 98.4, 98.9, 97.4, 96.7, 96.7, 98.9])"
      ]
     },
     "execution_count": 15,
     "metadata": {},
     "output_type": "execute_result"
    }
   ],
   "source": [
    "np.random.seed(999) #set seed for reproducibility\n",
    "sample_10 = np.random.choice(temp, size=10) #randomly select 10 temps from sample\n",
    "sample_10"
   ]
  },
  {
   "cell_type": "code",
   "execution_count": 16,
   "metadata": {},
   "outputs": [
    {
     "data": {
      "text/plain": [
       "0.02834653696485402"
      ]
     },
     "execution_count": 16,
     "metadata": {},
     "output_type": "execute_result"
    }
   ],
   "source": [
    "test_stat_10 = (np.mean(sample_10) - 98.6) / (np.std(sample_10) / np.sqrt(10))\n",
    "#Z-test\n",
    "z_10_pval = ss.norm.cdf(test_stat_10) * 2 \n",
    "z_10_pval #Reject null if alpha >= .05"
   ]
  },
  {
   "cell_type": "code",
   "execution_count": 17,
   "metadata": {},
   "outputs": [
    {
     "data": {
      "text/plain": [
       "0.056025417645494305"
      ]
     },
     "execution_count": 17,
     "metadata": {},
     "output_type": "execute_result"
    }
   ],
   "source": [
    "#T-test\n",
    "t_10_pval = ss.t.cdf(test_stat_10, df = 9) * 2\n",
    "t_10_pval #Fail to reject at alpha = .05"
   ]
  },
  {
   "cell_type": "markdown",
   "metadata": {},
   "source": [
    "<font color=blue>\n",
    "Significance: $\\alpha$ = .05\n",
    "\n",
    "In this case where sample size is clearly smaller than the desired threshold of 30, we should go with the t-statistic. At this small sample size, our standard error will be fairly large and considering that the z distribution tends to underestimate variability, it would not be appropriate. The p-values resulting from both tests  lie in an ambiguous zone for decision making.  It is important to note that this result will vary wildly between random samples of 10 temperatures. In general, such a small sample size is not ideal for testing. However, if we have to work with what is given, it is best to use the t-statistic to better capture the parameter in question. Tweaking our draw_bs_reps function from above, we can simulate drawing p-values for the two tests repeatedly to see how the variability in our results is affected by choice of test at a small sample size. The difference in variability becomes negligible as sample size nears 30 and beyond. \n",
    "</font>"
   ]
  },
  {
   "cell_type": "code",
   "execution_count": 18,
   "metadata": {},
   "outputs": [],
   "source": [
    "def draw_reps(data, func, n, size=1,):\n",
    "    'Tweak the draw_bs_reps function'\n",
    "    \n",
    "    replicates = np.empty(size)    \n",
    "    \n",
    "    for i in range(size):\n",
    "        bs_sample = np.random.choice(data, size = n)\n",
    "        replicates[i] = func(bs_sample, n)\n",
    "    \n",
    "    return replicates\n",
    "\n",
    "#Get p-val using z test\n",
    "def get_z_pval(data, n, val = 98.6):\n",
    "    \n",
    "    ts = (np.mean(data) - val) / (np.std(data) / np.sqrt(n))\n",
    "    p = ss.norm.cdf(ts) * 2\n",
    "    return p\n",
    "\n",
    "#Get p-val using t-test\n",
    "def get_t_pval(data, n, val = 98.6):\n",
    "    ts = (np.mean(data) - val) / (np.std(data) / np.sqrt(n))\n",
    "    p = ss.t.cdf(ts, df=n-1) * 2\n",
    "    return p"
   ]
  },
  {
   "cell_type": "code",
   "execution_count": 19,
   "metadata": {},
   "outputs": [
    {
     "name": "stdout",
     "output_type": "stream",
     "text": [
      "n = 10:\n",
      "Z: 0.13644577004408137, T: 0.13110396613499972\n",
      "n = 30:\n",
      "Z: 0.021909304009416514, T: 0.022916941445708938\n"
     ]
    }
   ],
   "source": [
    "#Draw 100000 of each p-val to observe variability change with change in sample size\n",
    "n_10_z = draw_reps(temp, get_z_pval, n=10, size=100000)\n",
    "n_10_t = draw_reps(temp, get_t_pval, n=10, size=100000)\n",
    "n_30_z = draw_reps(temp, get_z_pval, n=30, size=100000)\n",
    "n_30_t = draw_reps(temp, get_t_pval, n=30, size=100000)\n",
    "\n",
    "print(f'n = 10:\\nZ: {np.var(n_10_z)}, T: {np.var(n_10_t)}')\n",
    "print(f'n = 30:\\nZ: {np.var(n_30_z)}, T: {np.var(n_30_t)}')"
   ]
  },
  {
   "cell_type": "markdown",
   "metadata": {},
   "source": [
    "<li>  At what temperature should we consider someone's temperature to be \"abnormal\"?\n",
    "    <ul>\n",
    "    <li> As in the previous example, try calculating everything using the boostrap approach, as well as the frequentist approach.\n",
    "    <li> Start by computing the margin of error and confidence interval. When calculating the confidence interval, keep in mind that you should use the appropriate formula for one draw, and not N draws.\n",
    "    </ul>"
   ]
  },
  {
   "cell_type": "code",
   "execution_count": 20,
   "metadata": {},
   "outputs": [
    {
     "data": {
      "text/plain": [
       "array([96.81219178, 99.68626976])"
      ]
     },
     "execution_count": 20,
     "metadata": {},
     "output_type": "execute_result"
    }
   ],
   "source": [
    "err_mar = 1.96 * temp.std() #margin of error with 95% confidence\n",
    "#95% confidence interval using margin of error\n",
    "ci = temp.mean() + np.array([-err_mar, err_mar])\n",
    "ci"
   ]
  },
  {
   "cell_type": "markdown",
   "metadata": {},
   "source": [
    "<font color=blue>\n",
    "    Since we are examining 'abnormality' from the sample itself, standard deviation is used instead of standard error for N draws from population. We find a 95% confidence interval for our data to represent the boundary for normal temperatures. Temperatures below ~96.81 or above ~99.68 should be considered abnormal.\n",
    "</font>"
   ]
  },
  {
   "cell_type": "code",
   "execution_count": 118,
   "metadata": {},
   "outputs": [
    {
     "name": "stderr",
     "output_type": "stream",
     "text": [
      "C:\\Users\\vuong\\Anaconda3\\lib\\site-packages\\matplotlib\\axes\\_axes.py:6462: UserWarning: The 'normed' kwarg is deprecated, and has been replaced by the 'density' kwarg.\n",
      "  warnings.warn(\"The 'normed' kwarg is deprecated, and has been \"\n"
     ]
    },
    {
     "data": {
      "text/plain": [
       "<matplotlib.collections.LineCollection at 0x190ed50bba8>"
      ]
     },
     "execution_count": 118,
     "metadata": {},
     "output_type": "execute_result"
    },
    {
     "data": {
      "image/png": "[encoded data removed]",
      "text/plain": [
       "<Figure size 576x432 with 1 Axes>"
      ]
     },
     "metadata": {},
     "output_type": "display_data"
    }
   ],
   "source": [
    "plt.figure(figsize=[8,6])\n",
    "#Distplot with normal temperature boundaries\n",
    "sns.distplot(temp)\n",
    "plt.text(x=ci[0]-.5, y=.45, s=f'2.5% {np.round(ci[0],2)}')\n",
    "plt.vlines(x=ci[0], ymin=0, ymax=.4)\n",
    "plt.text(x=ci[1]-.5, y=.45,s=f'97.5% {np.round(ci[1],2)}')\n",
    "plt.vlines(x=ci[1], ymin=0, ymax=.4)"
   ]
  },
  {
   "cell_type": "code",
   "execution_count": 25,
   "metadata": {},
   "outputs": [
    {
     "data": {
      "text/plain": [
       "array([96.7, 99.5])"
      ]
     },
     "execution_count": 25,
     "metadata": {},
     "output_type": "execute_result"
    }
   ],
   "source": [
    "#Simulate drawing one at a time from sample\n",
    "temp_samples = np.empty(100000)\n",
    "\n",
    "for i in range(100000):\n",
    "    temp_samples[i] = np.random.choice(temp,1)\n",
    "\n",
    "bs_ci = np.percentile(temp_samples, [2.5, 97.5])\n",
    "bs_ci"
   ]
  },
  {
   "cell_type": "markdown",
   "metadata": {},
   "source": [
    "<li>  Is there a significant difference between males and females in normal temperature?\n",
    "    <ul>\n",
    "    <li> What testing approach did you use and why?\n",
    "    <li> Write a story with your conclusion in the context of the original problem.\n",
    "    </ul>"
   ]
  },
  {
   "cell_type": "code",
   "execution_count": 124,
   "metadata": {},
   "outputs": [
    {
     "data": {
      "image/png": "[encoded data removed]",
      "text/plain": [
       "<Figure size 1008x432 with 2 Axes>"
      ]
     },
     "metadata": {},
     "output_type": "display_data"
    }
   ],
   "source": [
    "plt.figure(figsize=(14,6))\n",
    "plt.subplot(121)\n",
    "#examine differences in temperature by gender. Males appear to have more spread, lower mean. Females more outliers\n",
    "_ = sns.swarmplot('gender', 'temperature', data=df)\n",
    "plt.subplot(122)\n",
    "_ = sns.boxplot('gender', 'temperature', data=df)"
   ]
  },
  {
   "cell_type": "code",
   "execution_count": 32,
   "metadata": {},
   "outputs": [],
   "source": [
    "male_temp = df[df.gender == 'M'].temperature\n",
    "fem_temp = df[df.gender == 'F'].temperature"
   ]
  },
  {
   "cell_type": "code",
   "execution_count": 40,
   "metadata": {},
   "outputs": [
    {
     "data": {
      "image/png": "[encoded data removed]",
      "text/plain": [
       "<Figure size 432x288 with 1 Axes>"
      ]
     },
     "metadata": {},
     "output_type": "display_data"
    }
   ],
   "source": [
    "male_x, male_y = cdf(male_temp) #ECDF for male temps.\n",
    "fem_x, fem_y = cdf(fem_temp) #Females temps\n",
    "\n",
    "_ = plt.plot(th_x, th_y) #Plotting theoretical cdf from above\n",
    "\n",
    "_ = plt.plot(male_x, male_y, marker = '.', linestyle='none')\n",
    "_ = plt.plot(fem_x, fem_y, marker = '.', linestyle='none')\n",
    "\n",
    "_ = plt.xlabel(\"Temperature\")\n",
    "_ = plt.ylabel(\"Cumulative Probability\")\n",
    "_ = plt.title(\"ECDFs (Male, Females) vs Normal CDF\")\n",
    "_ = plt.legend(['Theoretical CDF', 'Male ECDF', 'Female ECDF'], loc = 'lower right')\n",
    "#Approximately normal for both gender"
   ]
  },
  {
   "cell_type": "markdown",
   "metadata": {},
   "source": [
    "<font color=blue>\n",
    "H0: mean male temp - mean female temp = 0 (The distributions are identical) <br/>\n",
    "H1: Difference is not 0 (Different distributions by gender)<br/>\n",
    "$\\alpha$ = 0.05\n",
    "<font/>"
   ]
  },
  {
   "cell_type": "code",
   "execution_count": 59,
   "metadata": {},
   "outputs": [
    {
     "name": "stdout",
     "output_type": "stream",
     "text": [
      "Z-test p-value: 0.02228736076067726\n",
      "T-test p-value: 0.025609613391862636\n"
     ]
    }
   ],
   "source": [
    "n_male, n_fem = len(male_temp), len(fem_temp) # n = 65 for both genders\n",
    "m_mean = male_temp.mean()\n",
    "f_mean = fem_temp.mean()\n",
    "\n",
    "m_sd = male_temp.std()\n",
    "f_sd = fem_temp.std()\n",
    "#observed difference in gender means\n",
    "gender_diff_observed = m_mean - f_mean\n",
    "#standard error for the difference in mean temperature\n",
    "se_diff = np.sqrt((m_sd ** 2 / n_male) + (f_sd ** 2 / n_fem))\n",
    "#test statistic\n",
    "t_stat_diff = gender_diff_observed / se_diff\n",
    "#Z-test n1, n2 = 65 > 30\n",
    "z_pval_diff = ss.norm.cdf(t_stat_diff) * 2\n",
    "#t-test\n",
    "t_pval_diff = ss.t.cdf(t_stat_diff, 64) * 2\n",
    "#At significance alpha =.05, both tests reject the null that there are no difference in population mean\n",
    "print(f'Z-test p-value: {z_pval_diff}\\nT-test p-value: {t_pval_diff}')"
   ]
  },
  {
   "cell_type": "code",
   "execution_count": 74,
   "metadata": {},
   "outputs": [
    {
     "data": {
      "text/plain": [
       "array([-0.53727651, -0.04118503])"
      ]
     },
     "execution_count": 74,
     "metadata": {},
     "output_type": "execute_result"
    }
   ],
   "source": [
    "#95% confidence interval for the true difference between mean temps of male vs female.\n",
    "diff_ci = gender_diff_observed + np.array([-1,1]) * 1.96 * se_diff\n",
    "#Does not span 0: True difference is not 0\n",
    "diff_ci"
   ]
  },
  {
   "cell_type": "code",
   "execution_count": 84,
   "metadata": {},
   "outputs": [],
   "source": [
    "#Permutation test\n",
    "def permute_sample(data1, data2):\n",
    "    'Perform permutation of 2 samples. Concat, permute, return permuted data'\n",
    "    combined = np.concatenate((data1, data2))\n",
    "    \n",
    "    permuted = np.random.permutation(combined)\n",
    "    \n",
    "    perm_1 = permuted[:len(data1)]\n",
    "    perm_2 = permuted[len(data1):]\n",
    "    \n",
    "    return perm_1, perm_2\n",
    "\n",
    "def draw_perm_reps(data1, data2, func, size=1):\n",
    "    'Permute and calculate replicates'\n",
    "    \n",
    "    replicates = np.empty(size)\n",
    "    \n",
    "    for i in range(size):\n",
    "        perm_1, perm_2 = permute_sample(data1, data2)\n",
    "        \n",
    "        replicates[i] = func(perm_1, perm_2)\n",
    "    \n",
    "    return replicates\n",
    "\n",
    "def mean_diff(data1, data2):\n",
    "    'Difference between two sets of data'\n",
    "    return np.mean(data1) - np.mean(data2)"
   ]
  },
  {
   "cell_type": "code",
   "execution_count": 89,
   "metadata": {},
   "outputs": [
    {
     "data": {
      "text/plain": [
       "0.0123"
      ]
     },
     "execution_count": 89,
     "metadata": {},
     "output_type": "execute_result"
    }
   ],
   "source": [
    "np.random.seed(45789)\n",
    "#Draw 10,000 permutation replicates\n",
    "perm_reps = draw_perm_reps(male_temp, fem_temp, mean_diff, 10000)\n",
    "#Reject null at alpha = 0.05: \n",
    "perm_pval = np.sum(perm_reps <= gender_diff_observed) / len(perm_reps)\n",
    "perm_pval"
   ]
  },
  {
   "cell_type": "markdown",
   "metadata": {},
   "source": [
    "<font color=blue>\n",
    "Considering our original temperature data as a whole, we can assume normality and proceed with testing. The long-held belief that the true mean body temperature of human is 98.6 degree F is rejected. We have evidence to suggest this value is different. This result is supported by both bootstrapping and frequentiest hypothesis testing. When our sample size dips (n=10), the previously significant results succumbs to high variability. Since the the standard error here is a biased estimate, we would generally use the t-test for smaller samples. Using our sample of 130, we are able to pinpoint a 95% confidence interval for 'normal' temperature. Values under 96.81 and above 99.68 degrees F would be considered abnormal within our sample. It is important to note that this is not a typical calculation for confidence interval for a true mean. As such bootstrapping and calculating replicates doesn't make much sense. Overall, our interval does seem to align with scientific findings of normal body temperature range. Finally, our hypothesis testing provides evidence to believe that there is a difference between male and female regarding body temperatures. Since our sample sizes for both genders are greater than 30, we can proceed with a 2 samples z-test for difference in means. Our findings for the t-test as well as a permutation test seem to support our result. There is evidence to suggest that on average males have lower body temperatures than females.\n",
    "<font/>"
   ]
  },
  {
   "cell_type": "code",
   "execution_count": null,
   "metadata": {},
   "outputs": [],
   "source": []
  },
  {
   "cell_type": "code",
   "execution_count": null,
   "metadata": {},
   "outputs": [],
   "source": []
  }
 ],
 "metadata": {
  "kernelspec": {
   "display_name": "Python 3",
   "language": "python",
   "name": "python3"
  },
  "language_info": {
   "codemirror_mode": {
    "name": "ipython",
    "version": 3
   },
   "file_extension": ".py",
   "mimetype": "text/x-python",
   "name": "python",
   "nbconvert_exporter": "python",
   "pygments_lexer": "ipython3",
   "version": "3.6.8"
  }
 },
 "nbformat": 4,
 "nbformat_minor": 1
}
